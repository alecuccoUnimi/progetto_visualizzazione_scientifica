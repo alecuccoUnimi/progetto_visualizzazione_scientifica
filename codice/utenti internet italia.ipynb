{
 "cells": [
  {
   "cell_type": "code",
   "execution_count": 2,
   "metadata": {},
   "outputs": [
    {
     "data": {
      "text/html": [
       "<div>\n",
       "<style scoped>\n",
       "    .dataframe tbody tr th:only-of-type {\n",
       "        vertical-align: middle;\n",
       "    }\n",
       "\n",
       "    .dataframe tbody tr th {\n",
       "        vertical-align: top;\n",
       "    }\n",
       "\n",
       "    .dataframe thead th {\n",
       "        text-align: right;\n",
       "    }\n",
       "</style>\n",
       "<table border=\"1\" class=\"dataframe\">\n",
       "  <thead>\n",
       "    <tr style=\"text-align: right;\">\n",
       "      <th></th>\n",
       "      <th>Indicator</th>\n",
       "      <th>Country</th>\n",
       "      <th>2000_value</th>\n",
       "      <th>2000_notes</th>\n",
       "      <th>2000_source</th>\n",
       "      <th>2001_value</th>\n",
       "      <th>2001_notes</th>\n",
       "      <th>2001_source</th>\n",
       "      <th>2002_value</th>\n",
       "      <th>2002_notes</th>\n",
       "      <th>...</th>\n",
       "      <th>2017_source</th>\n",
       "      <th>2018_value</th>\n",
       "      <th>2018_notes</th>\n",
       "      <th>2018_source</th>\n",
       "      <th>2019_value</th>\n",
       "      <th>2019_notes</th>\n",
       "      <th>2019_source</th>\n",
       "      <th>2020_value</th>\n",
       "      <th>2020_notes</th>\n",
       "      <th>2020_source</th>\n",
       "    </tr>\n",
       "  </thead>\n",
       "  <tbody>\n",
       "    <tr>\n",
       "      <th>103</th>\n",
       "      <td>Internet users (%)</td>\n",
       "      <td>Italy</td>\n",
       "      <td>23.110874</td>\n",
       "      <td>NaN</td>\n",
       "      <td>IDC.</td>\n",
       "      <td>27.222117</td>\n",
       "      <td>NaN</td>\n",
       "      <td>IDC.</td>\n",
       "      <td>28.04</td>\n",
       "      <td>Population age 16-74, in the last 3 months.</td>\n",
       "      <td>...</td>\n",
       "      <td>Italian National Institute of Statistics</td>\n",
       "      <td>74.387183</td>\n",
       "      <td>NaN</td>\n",
       "      <td>Eurostat</td>\n",
       "      <td>76.1</td>\n",
       "      <td>NaN</td>\n",
       "      <td>ITU estimate.</td>\n",
       "      <td>70.483428</td>\n",
       "      <td>NaN</td>\n",
       "      <td>National Institute of Statistics</td>\n",
       "    </tr>\n",
       "  </tbody>\n",
       "</table>\n",
       "<p>1 rows × 65 columns</p>\n",
       "</div>"
      ],
      "text/plain": [
       "              Indicator Country  2000_value 2000_notes 2000_source  \\\n",
       "103  Internet users (%)   Italy   23.110874        NaN        IDC.   \n",
       "\n",
       "     2001_value 2001_notes 2001_source  2002_value  \\\n",
       "103   27.222117        NaN        IDC.       28.04   \n",
       "\n",
       "                                      2002_notes  ...  \\\n",
       "103  Population age 16-74, in the last 3 months.  ...   \n",
       "\n",
       "                                  2017_source  2018_value 2018_notes  \\\n",
       "103  Italian National Institute of Statistics   74.387183        NaN   \n",
       "\n",
       "    2018_source  2019_value 2019_notes    2019_source  2020_value 2020_notes  \\\n",
       "103    Eurostat        76.1        NaN  ITU estimate.   70.483428        NaN   \n",
       "\n",
       "                          2020_source  \n",
       "103  National Institute of Statistics  \n",
       "\n",
       "[1 rows x 65 columns]"
      ]
     },
     "execution_count": 2,
     "metadata": {},
     "output_type": "execute_result"
    }
   ],
   "source": [
    "import matplotlib.pyplot as plt\n",
    "import pandas as pd\n",
    "\n",
    "dati = pd.read_excel(\"../dati/PercentIndividualsUsingInternet.xlsx\")\n",
    "italia = dati[dati[\"Country\"] == \"Italy\"]\n",
    "italia"
   ]
  },
  {
   "cell_type": "code",
   "execution_count": 3,
   "metadata": {},
   "outputs": [],
   "source": [
    "x=2000\n",
    "list=[]\n",
    "years=[]\n",
    "for i in range(0,21):\n",
    "    list.append(italia.at[103,str(x+i)+'_value'].round(2))\n",
    "    years.append(x+i)"
   ]
  },
  {
   "cell_type": "code",
   "execution_count": 4,
   "metadata": {},
   "outputs": [],
   "source": [
    "years.append(2021)\n",
    "list.append(84.3)"
   ]
  },
  {
   "cell_type": "code",
   "execution_count": 5,
   "metadata": {},
   "outputs": [
    {
     "data": {
      "image/png": "[encoded data removed]",
      "text/plain": [
       "<Figure size 936x576 with 1 Axes>"
      ]
     },
     "metadata": {
      "needs_background": "light"
     },
     "output_type": "display_data"
    }
   ],
   "source": [
    "plt.figure(figsize=(13,8))\n",
    "plt.plot(years,list, marker='o')\n",
    "plt.grid(True)\n",
    "plt.xticks(fontsize=15)\n",
    "plt.yticks(fontsize=15)\n",
    "plt.savefig('percentuale_utenti_italia.png', dpi=300, bbox_inches='tight')\n",
    "plt.show()"
   ]
  },
  {
   "cell_type": "code",
   "execution_count": null,
   "metadata": {},
   "outputs": [],
   "source": []
  }
 ],
 "metadata": {
  "kernelspec": {
   "display_name": "Python 3",
   "language": "python",
   "name": "python3"
  },
  "language_info": {
   "codemirror_mode": {
    "name": "ipython",
    "version": 3
   },
   "file_extension": ".py",
   "mimetype": "text/x-python",
   "name": "python",
   "nbconvert_exporter": "python",
   "pygments_lexer": "ipython3",
   "version": "3.8.5"
  }
 },
 "nbformat": 4,
 "nbformat_minor": 4
}
